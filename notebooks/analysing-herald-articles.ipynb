{
 "cells": [
  {
   "cell_type": "markdown",
   "metadata": {},
   "source": [
    "# Analysing Herald Articles"
   ]
  },
  {
   "cell_type": "code",
   "execution_count": 1,
   "metadata": {},
   "outputs": [],
   "source": [
    "OVERWRITE = True"
   ]
  },
  {
   "cell_type": "markdown",
   "metadata": {},
   "source": [
    "Here I'll be analysing over 300,000 articles from the NZ Herald."
   ]
  },
  {
   "cell_type": "code",
   "execution_count": 2,
   "metadata": {},
   "outputs": [],
   "source": [
    "# The usual suspects\n",
    "import numpy as np\n",
    "import pandas as pd\n",
    "import matplotlib.pyplot as plt\n",
    "%matplotlib inline\n",
    "\n",
    "# For this analysis\n",
    "import os\n",
    "import re\n",
    "import json\n",
    "import jellyfish"
   ]
  },
  {
   "cell_type": "markdown",
   "metadata": {},
   "source": [
    "The articles are recorded as json. Here is one example:"
   ]
  },
  {
   "cell_type": "code",
   "execution_count": 3,
   "metadata": {},
   "outputs": [
    {
     "name": "stdout",
     "output_type": "stream",
     "text": [
      "{\"headline\": [\" Live: Christchurch mosque shootings - NZ in mourning as 49 people killed and more than 40 injured in terror attack \", \" \"], \"date\": \"16 Mar, 2019 9:15am\", \"url\": \"https://www.nzherald.co.nz/nz/news/article.cfm?c_id=1&objectid=12213236\", \"syndicator_name\": [\"NZ Herald\"], \"byline\": null, \"paragraphs\": [\" KEY POINTS:\\n• 36 mins of terror: Police confirm sole gunman responsible for both mosque shootings\\n• PM Ardern says gunman \\\"absolutely\\\" intended to continue his attack\\n• Australian-born Dunedin resident Brenton Harrison Tarrant appeared in court today \\n• 49 are confirmed dead, victims range from 2 to older than 60\\n• 12 people remain in critical care as survivors' harrowing tales emerge\\n• Attorney General says semi-automatic weapons will be banned \\n• Kiwis have already donated more than $2.5m\", \" New Zealand is in mourning after the deadly massacre at two Christchurch mosques. Join us for live updates as the country comes to grips with the tragedy.\"]}\n"
     ]
    }
   ],
   "source": [
    "! head -n 1 ../news/nzherald.json"
   ]
  },
  {
   "cell_type": "code",
   "execution_count": 4,
   "metadata": {},
   "outputs": [],
   "source": [
    "! head ../news/nzherald.json > ../data/nzherald_sample.json"
   ]
  },
  {
   "cell_type": "code",
   "execution_count": 5,
   "metadata": {},
   "outputs": [
    {
     "name": "stdout",
     "output_type": "stream",
     "text": [
      "CPU times: user 36.3 s, sys: 2 s, total: 38.3 s\n",
      "Wall time: 38.3 s\n"
     ]
    }
   ],
   "source": [
    "%%time\n",
    "herald_data = pd.read_json(\"../news/nzherald.json\", lines = True)\n",
    "herald_data.head()"
   ]
  },
  {
   "cell_type": "code",
   "execution_count": 6,
   "metadata": {},
   "outputs": [
    {
     "name": "stdout",
     "output_type": "stream",
     "text": [
      "herald_data has 306696 rows\n"
     ]
    }
   ],
   "source": [
    "print(\"herald_data has {} rows\".format(len(herald_data)))"
   ]
  },
  {
   "cell_type": "markdown",
   "metadata": {},
   "source": [
    "## Clean columns"
   ]
  },
  {
   "cell_type": "code",
   "execution_count": 7,
   "metadata": {},
   "outputs": [],
   "source": [
    "def delist_entry(x):\n",
    "    '''\n",
    "    Extracts and cleans text in a list\n",
    "    '''\n",
    "    if isinstance(x, list):\n",
    "        x = ' '.join(x).strip()\n",
    "        return x\n",
    "    elif x is None:\n",
    "        return ''\n",
    "    else:\n",
    "        raise ValueError(\"Type is not list or None: {}\".format(x))"
   ]
  },
  {
   "cell_type": "code",
   "execution_count": 8,
   "metadata": {},
   "outputs": [],
   "source": [
    "for col in ['byline', 'headline', 'syndicator_name']:\n",
    "    herald_data[col] = herald_data[col].apply(delist_entry).str.replace('\\s{2,}', ' ', regex = True)\n",
    "\n",
    "# Fix bylines\n",
    "herald_data['byline'] = (herald_data.byline\n",
    "    .str.replace('^By:? ', '', regex = True))\n",
    "    \n",
    "# Create articles column\n",
    "herald_data['article'] = (herald_data['paragraphs']\n",
    "    .apply(lambda x: '\\n'.join(x))\n",
    "    .str.strip())"
   ]
  },
  {
   "cell_type": "code",
   "execution_count": 9,
   "metadata": {},
   "outputs": [
    {
     "data": {
      "text/html": [
       "<div>\n",
       "<style scoped>\n",
       "    .dataframe tbody tr th:only-of-type {\n",
       "        vertical-align: middle;\n",
       "    }\n",
       "\n",
       "    .dataframe tbody tr th {\n",
       "        vertical-align: top;\n",
       "    }\n",
       "\n",
       "    .dataframe thead th {\n",
       "        text-align: right;\n",
       "    }\n",
       "</style>\n",
       "<table border=\"1\" class=\"dataframe\">\n",
       "  <thead>\n",
       "    <tr style=\"text-align: right;\">\n",
       "      <th></th>\n",
       "      <th>byline</th>\n",
       "      <th>date</th>\n",
       "      <th>headline</th>\n",
       "      <th>paragraphs</th>\n",
       "      <th>syndicator_name</th>\n",
       "      <th>url</th>\n",
       "      <th>article</th>\n",
       "    </tr>\n",
       "  </thead>\n",
       "  <tbody>\n",
       "    <tr>\n",
       "      <th>0</th>\n",
       "      <td></td>\n",
       "      <td>2019-03-16 09:15:00</td>\n",
       "      <td>Live: Christchurch mosque shootings - NZ in mo...</td>\n",
       "      <td>[ KEY POINTS:\\n• 36 mins of terror: Police con...</td>\n",
       "      <td>NZ Herald</td>\n",
       "      <td>https://www.nzherald.co.nz/nz/news/article.cfm...</td>\n",
       "      <td>KEY POINTS:\\n• 36 mins of terror: Police confi...</td>\n",
       "    </tr>\n",
       "    <tr>\n",
       "      <th>1</th>\n",
       "      <td>Craig Timberg</td>\n",
       "      <td>2019-03-15 14:07:00</td>\n",
       "      <td>Sex, drugs and Peppa Pig: Why you can't trust ...</td>\n",
       "      <td>[ The YouTube video starts with a popular Brit...</td>\n",
       "      <td>Washington Post</td>\n",
       "      <td>https://www.nzherald.co.nz/business/news/artic...</td>\n",
       "      <td>The YouTube video starts with a popular Britis...</td>\n",
       "    </tr>\n",
       "    <tr>\n",
       "      <th>2</th>\n",
       "      <td>Andrea Fox Business Reporter, NZ Herald andrea...</td>\n",
       "      <td>2019-03-15 17:50:00</td>\n",
       "      <td>Fonterra jobs go in shakeup but details under ...</td>\n",
       "      <td>[ Jobs have been lost at Fonterra but New Zeal...</td>\n",
       "      <td></td>\n",
       "      <td>https://www.nzherald.co.nz/business/news/artic...</td>\n",
       "      <td>Jobs have been lost at Fonterra but New Zealan...</td>\n",
       "    </tr>\n",
       "    <tr>\n",
       "      <th>3</th>\n",
       "      <td>Chris Schulz</td>\n",
       "      <td>2019-03-16 08:32:00</td>\n",
       "      <td>Sol3 Mio on turning their back on fame</td>\n",
       "      <td>[ Glasses clink, knives and forks rattle, and ...</td>\n",
       "      <td>Canvas</td>\n",
       "      <td>https://www.nzherald.co.nz/entertainment/news/...</td>\n",
       "      <td>Glasses clink, knives and forks rattle, and yo...</td>\n",
       "    </tr>\n",
       "    <tr>\n",
       "      <th>4</th>\n",
       "      <td></td>\n",
       "      <td>2019-03-15 12:41:00</td>\n",
       "      <td>Continuous Disclosure: Big-money Goodman deal,...</td>\n",
       "      <td>[ Continuous Disclosure is a market news colum...</td>\n",
       "      <td>NZ Herald</td>\n",
       "      <td>https://www.nzherald.co.nz/business/news/artic...</td>\n",
       "      <td>Continuous Disclosure is a market news column,...</td>\n",
       "    </tr>\n",
       "  </tbody>\n",
       "</table>\n",
       "</div>"
      ],
      "text/plain": [
       "                                              byline                date  \\\n",
       "0                                                    2019-03-16 09:15:00   \n",
       "1                                      Craig Timberg 2019-03-15 14:07:00   \n",
       "2  Andrea Fox Business Reporter, NZ Herald andrea... 2019-03-15 17:50:00   \n",
       "3                                       Chris Schulz 2019-03-16 08:32:00   \n",
       "4                                                    2019-03-15 12:41:00   \n",
       "\n",
       "                                            headline  \\\n",
       "0  Live: Christchurch mosque shootings - NZ in mo...   \n",
       "1  Sex, drugs and Peppa Pig: Why you can't trust ...   \n",
       "2  Fonterra jobs go in shakeup but details under ...   \n",
       "3             Sol3 Mio on turning their back on fame   \n",
       "4  Continuous Disclosure: Big-money Goodman deal,...   \n",
       "\n",
       "                                          paragraphs  syndicator_name  \\\n",
       "0  [ KEY POINTS:\\n• 36 mins of terror: Police con...        NZ Herald   \n",
       "1  [ The YouTube video starts with a popular Brit...  Washington Post   \n",
       "2  [ Jobs have been lost at Fonterra but New Zeal...                    \n",
       "3  [ Glasses clink, knives and forks rattle, and ...           Canvas   \n",
       "4  [ Continuous Disclosure is a market news colum...        NZ Herald   \n",
       "\n",
       "                                                 url  \\\n",
       "0  https://www.nzherald.co.nz/nz/news/article.cfm...   \n",
       "1  https://www.nzherald.co.nz/business/news/artic...   \n",
       "2  https://www.nzherald.co.nz/business/news/artic...   \n",
       "3  https://www.nzherald.co.nz/entertainment/news/...   \n",
       "4  https://www.nzherald.co.nz/business/news/artic...   \n",
       "\n",
       "                                             article  \n",
       "0  KEY POINTS:\\n• 36 mins of terror: Police confi...  \n",
       "1  The YouTube video starts with a popular Britis...  \n",
       "2  Jobs have been lost at Fonterra but New Zealan...  \n",
       "3  Glasses clink, knives and forks rattle, and yo...  \n",
       "4  Continuous Disclosure is a market news column,...  "
      ]
     },
     "execution_count": 9,
     "metadata": {},
     "output_type": "execute_result"
    }
   ],
   "source": [
    "herald_data.head()"
   ]
  },
  {
   "cell_type": "markdown",
   "metadata": {},
   "source": [
    "### Herald Quiz"
   ]
  },
  {
   "cell_type": "markdown",
   "metadata": {},
   "source": [
    "There are a number of Herald quiz articles in the `herald_data`. We remove those here."
   ]
  },
  {
   "cell_type": "code",
   "execution_count": 10,
   "metadata": {},
   "outputs": [
    {
     "name": "stdout",
     "output_type": "stream",
     "text": [
      "Found 260 herald quizzes in herald_data\n"
     ]
    },
    {
     "data": {
      "text/html": [
       "<div>\n",
       "<style scoped>\n",
       "    .dataframe tbody tr th:only-of-type {\n",
       "        vertical-align: middle;\n",
       "    }\n",
       "\n",
       "    .dataframe tbody tr th {\n",
       "        vertical-align: top;\n",
       "    }\n",
       "\n",
       "    .dataframe thead th {\n",
       "        text-align: right;\n",
       "    }\n",
       "</style>\n",
       "<table border=\"1\" class=\"dataframe\">\n",
       "  <thead>\n",
       "    <tr style=\"text-align: right;\">\n",
       "      <th></th>\n",
       "      <th>byline</th>\n",
       "      <th>date</th>\n",
       "      <th>headline</th>\n",
       "      <th>paragraphs</th>\n",
       "      <th>syndicator_name</th>\n",
       "      <th>url</th>\n",
       "      <th>article</th>\n",
       "    </tr>\n",
       "  </thead>\n",
       "  <tbody>\n",
       "    <tr>\n",
       "      <th>2871</th>\n",
       "      <td></td>\n",
       "      <td>2017-07-13 05:30:00</td>\n",
       "      <td>Herald daily quiz: July 13</td>\n",
       "      <td>[ • App users try the quiz here.\\n]</td>\n",
       "      <td>NZ Herald</td>\n",
       "      <td>https://www.nzherald.co.nz/nz/news/article.cfm...</td>\n",
       "      <td>• App users try the quiz here.</td>\n",
       "    </tr>\n",
       "    <tr>\n",
       "      <th>2902</th>\n",
       "      <td></td>\n",
       "      <td>2017-07-12 05:30:00</td>\n",
       "      <td>Herald daily quiz: July 12</td>\n",
       "      <td>[ • App users try the quiz here.\\n]</td>\n",
       "      <td>NZ Herald</td>\n",
       "      <td>https://www.nzherald.co.nz/nz/news/article.cfm...</td>\n",
       "      <td>• App users try the quiz here.</td>\n",
       "    </tr>\n",
       "    <tr>\n",
       "      <th>2904</th>\n",
       "      <td></td>\n",
       "      <td>2017-07-07 05:30:00</td>\n",
       "      <td>Herald daily quiz: July 7</td>\n",
       "      <td>[ • App users try the quiz here.\\n]</td>\n",
       "      <td>NZ Herald</td>\n",
       "      <td>https://www.nzherald.co.nz/nz/news/article.cfm...</td>\n",
       "      <td>• App users try the quiz here.</td>\n",
       "    </tr>\n",
       "    <tr>\n",
       "      <th>2906</th>\n",
       "      <td></td>\n",
       "      <td>2017-07-11 05:30:00</td>\n",
       "      <td>Herald daily quiz: July 11</td>\n",
       "      <td>[ • App users try the quiz here.\\n]</td>\n",
       "      <td>NZ Herald</td>\n",
       "      <td>https://www.nzherald.co.nz/nz/news/article.cfm...</td>\n",
       "      <td>• App users try the quiz here.</td>\n",
       "    </tr>\n",
       "    <tr>\n",
       "      <th>2935</th>\n",
       "      <td></td>\n",
       "      <td>2017-04-11 05:30:00</td>\n",
       "      <td>Herald daily quiz: April 11</td>\n",
       "      <td>[]</td>\n",
       "      <td>NZ Herald</td>\n",
       "      <td>https://www.nzherald.co.nz/nz/news/article.cfm...</td>\n",
       "      <td></td>\n",
       "    </tr>\n",
       "  </tbody>\n",
       "</table>\n",
       "</div>"
      ],
      "text/plain": [
       "     byline                date                     headline  \\\n",
       "2871        2017-07-13 05:30:00   Herald daily quiz: July 13   \n",
       "2902        2017-07-12 05:30:00   Herald daily quiz: July 12   \n",
       "2904        2017-07-07 05:30:00    Herald daily quiz: July 7   \n",
       "2906        2017-07-11 05:30:00   Herald daily quiz: July 11   \n",
       "2935        2017-04-11 05:30:00  Herald daily quiz: April 11   \n",
       "\n",
       "                               paragraphs syndicator_name  \\\n",
       "2871  [ • App users try the quiz here.\\n]       NZ Herald   \n",
       "2902  [ • App users try the quiz here.\\n]       NZ Herald   \n",
       "2904  [ • App users try the quiz here.\\n]       NZ Herald   \n",
       "2906  [ • App users try the quiz here.\\n]       NZ Herald   \n",
       "2935                                   []       NZ Herald   \n",
       "\n",
       "                                                    url  \\\n",
       "2871  https://www.nzherald.co.nz/nz/news/article.cfm...   \n",
       "2902  https://www.nzherald.co.nz/nz/news/article.cfm...   \n",
       "2904  https://www.nzherald.co.nz/nz/news/article.cfm...   \n",
       "2906  https://www.nzherald.co.nz/nz/news/article.cfm...   \n",
       "2935  https://www.nzherald.co.nz/nz/news/article.cfm...   \n",
       "\n",
       "                             article  \n",
       "2871  • App users try the quiz here.  \n",
       "2902  • App users try the quiz here.  \n",
       "2904  • App users try the quiz here.  \n",
       "2906  • App users try the quiz here.  \n",
       "2935                                  "
      ]
     },
     "execution_count": 10,
     "metadata": {},
     "output_type": "execute_result"
    }
   ],
   "source": [
    "quiz_rows = herald_data.headline.str.match('Herald [A-z]+ quiz:')\n",
    "print(\"Found {} herald quizzes in herald_data\".format(np.sum(quiz_rows)))\n",
    "herald_data[quiz_rows].head()"
   ]
  },
  {
   "cell_type": "code",
   "execution_count": 11,
   "metadata": {},
   "outputs": [],
   "source": [
    "# Remove daily quiz articles\n",
    "herald_data = herald_data[~herald_data.headline.str.match('Herald [A-z]+ quiz:')]"
   ]
  },
  {
   "cell_type": "markdown",
   "metadata": {},
   "source": [
    "Another issue is Cartoon articles, which contain no article text."
   ]
  },
  {
   "cell_type": "code",
   "execution_count": 12,
   "metadata": {},
   "outputs": [
    {
     "name": "stdout",
     "output_type": "stream",
     "text": [
      "Found 554 herald quizzes in herald_data\n"
     ]
    },
    {
     "data": {
      "text/html": [
       "<div>\n",
       "<style scoped>\n",
       "    .dataframe tbody tr th:only-of-type {\n",
       "        vertical-align: middle;\n",
       "    }\n",
       "\n",
       "    .dataframe tbody tr th {\n",
       "        vertical-align: top;\n",
       "    }\n",
       "\n",
       "    .dataframe thead th {\n",
       "        text-align: right;\n",
       "    }\n",
       "</style>\n",
       "<table border=\"1\" class=\"dataframe\">\n",
       "  <thead>\n",
       "    <tr style=\"text-align: right;\">\n",
       "      <th></th>\n",
       "      <th>byline</th>\n",
       "      <th>date</th>\n",
       "      <th>headline</th>\n",
       "      <th>paragraphs</th>\n",
       "      <th>syndicator_name</th>\n",
       "      <th>url</th>\n",
       "      <th>article</th>\n",
       "    </tr>\n",
       "  </thead>\n",
       "  <tbody>\n",
       "    <tr>\n",
       "      <th>2395</th>\n",
       "      <td></td>\n",
       "      <td>2016-11-05 05:00:00</td>\n",
       "      <td>Cartoon: Auckland ratepayers v Duco</td>\n",
       "      <td>[ None]</td>\n",
       "      <td>NZ Herald</td>\n",
       "      <td>https://www.nzherald.co.nz/sport/news/article....</td>\n",
       "      <td>None</td>\n",
       "    </tr>\n",
       "    <tr>\n",
       "      <th>3632</th>\n",
       "      <td></td>\n",
       "      <td>2014-06-19 05:46:00</td>\n",
       "      <td>Cartoon: Disastrous brain-fade club</td>\n",
       "      <td>[ None]</td>\n",
       "      <td>NZ Herald</td>\n",
       "      <td>https://www.nzherald.co.nz/nz/news/article.cfm...</td>\n",
       "      <td>None</td>\n",
       "    </tr>\n",
       "    <tr>\n",
       "      <th>3663</th>\n",
       "      <td></td>\n",
       "      <td>2016-08-07 05:00:00</td>\n",
       "      <td>Cartoon: The Rio Olympics debt</td>\n",
       "      <td>[ None]</td>\n",
       "      <td>Herald on Sunday</td>\n",
       "      <td>https://www.nzherald.co.nz/sport/news/article....</td>\n",
       "      <td>None</td>\n",
       "    </tr>\n",
       "    <tr>\n",
       "      <th>4806</th>\n",
       "      <td></td>\n",
       "      <td>2012-07-19 05:29:00</td>\n",
       "      <td>Cartoon: Olympics security is but a spoonful o...</td>\n",
       "      <td>[ None]</td>\n",
       "      <td>NZ Herald</td>\n",
       "      <td>https://www.nzherald.co.nz/nz/news/article.cfm...</td>\n",
       "      <td>None</td>\n",
       "    </tr>\n",
       "    <tr>\n",
       "      <th>4812</th>\n",
       "      <td></td>\n",
       "      <td>2012-07-18 05:29:00</td>\n",
       "      <td>Cartoon: Bring your tools, John</td>\n",
       "      <td>[ None]</td>\n",
       "      <td>NZ Herald</td>\n",
       "      <td>https://www.nzherald.co.nz/opinion/news/articl...</td>\n",
       "      <td>None</td>\n",
       "    </tr>\n",
       "  </tbody>\n",
       "</table>\n",
       "</div>"
      ],
      "text/plain": [
       "     byline                date  \\\n",
       "2395        2016-11-05 05:00:00   \n",
       "3632        2014-06-19 05:46:00   \n",
       "3663        2016-08-07 05:00:00   \n",
       "4806        2012-07-19 05:29:00   \n",
       "4812        2012-07-18 05:29:00   \n",
       "\n",
       "                                               headline paragraphs  \\\n",
       "2395                Cartoon: Auckland ratepayers v Duco    [ None]   \n",
       "3632                Cartoon: Disastrous brain-fade club    [ None]   \n",
       "3663                     Cartoon: The Rio Olympics debt    [ None]   \n",
       "4806  Cartoon: Olympics security is but a spoonful o...    [ None]   \n",
       "4812                    Cartoon: Bring your tools, John    [ None]   \n",
       "\n",
       "       syndicator_name                                                url  \\\n",
       "2395         NZ Herald  https://www.nzherald.co.nz/sport/news/article....   \n",
       "3632         NZ Herald  https://www.nzherald.co.nz/nz/news/article.cfm...   \n",
       "3663  Herald on Sunday  https://www.nzherald.co.nz/sport/news/article....   \n",
       "4806         NZ Herald  https://www.nzherald.co.nz/nz/news/article.cfm...   \n",
       "4812         NZ Herald  https://www.nzherald.co.nz/opinion/news/articl...   \n",
       "\n",
       "     article  \n",
       "2395    None  \n",
       "3632    None  \n",
       "3663    None  \n",
       "4806    None  \n",
       "4812    None  "
      ]
     },
     "execution_count": 12,
     "metadata": {},
     "output_type": "execute_result"
    }
   ],
   "source": [
    "cartoon_rows = herald_data.headline.str.match('Cartoon:')\n",
    "print(\"Found {} herald quizzes in herald_data\".format(np.sum(cartoon_rows)))\n",
    "herald_data[cartoon_rows].head()"
   ]
  },
  {
   "cell_type": "code",
   "execution_count": 13,
   "metadata": {},
   "outputs": [],
   "source": [
    "# Remove cartoon articles\n",
    "herald_data = herald_data[~herald_data.headline.str.match('Cartoon:')]"
   ]
  },
  {
   "cell_type": "markdown",
   "metadata": {},
   "source": [
    "Another issue: Paragraphs containing `None` as values, gives rise to articles containing just `'None'`. We can remove those now too."
   ]
  },
  {
   "cell_type": "code",
   "execution_count": 14,
   "metadata": {},
   "outputs": [
    {
     "data": {
      "text/plain": [
       "[' None']         151\n",
       "[' ', ' None']     10\n",
       "Name: paragraphs, dtype: int64"
      ]
     },
     "execution_count": 14,
     "metadata": {},
     "output_type": "execute_result"
    }
   ],
   "source": [
    "herald_data.loc[herald_data.article.str.strip() == 'None', 'paragraphs'].apply(str).value_counts()"
   ]
  },
  {
   "cell_type": "code",
   "execution_count": 15,
   "metadata": {},
   "outputs": [],
   "source": [
    "herald_data = herald_data[herald_data.article != 'None']"
   ]
  },
  {
   "cell_type": "markdown",
   "metadata": {},
   "source": [
    "Now we remove articles with empty contents."
   ]
  },
  {
   "cell_type": "code",
   "execution_count": 16,
   "metadata": {},
   "outputs": [],
   "source": [
    "herald_data = herald_data[herald_data.article.str.len() != 0]"
   ]
  },
  {
   "cell_type": "code",
   "execution_count": 17,
   "metadata": {},
   "outputs": [
    {
     "data": {
      "text/html": [
       "<div>\n",
       "<style scoped>\n",
       "    .dataframe tbody tr th:only-of-type {\n",
       "        vertical-align: middle;\n",
       "    }\n",
       "\n",
       "    .dataframe tbody tr th {\n",
       "        vertical-align: top;\n",
       "    }\n",
       "\n",
       "    .dataframe thead th {\n",
       "        text-align: right;\n",
       "    }\n",
       "</style>\n",
       "<table border=\"1\" class=\"dataframe\">\n",
       "  <thead>\n",
       "    <tr style=\"text-align: right;\">\n",
       "      <th></th>\n",
       "      <th>byline</th>\n",
       "      <th>date</th>\n",
       "      <th>headline</th>\n",
       "      <th>paragraphs</th>\n",
       "      <th>syndicator_name</th>\n",
       "      <th>url</th>\n",
       "      <th>article</th>\n",
       "    </tr>\n",
       "  </thead>\n",
       "  <tbody>\n",
       "    <tr>\n",
       "      <th>182570</th>\n",
       "      <td></td>\n",
       "      <td>2016-06-13 14:25:00</td>\n",
       "      <td>Jim Hopkins gets serious about Rachel Stewart</td>\n",
       "      <td>[ Our rural raconteur adds some serious social...</td>\n",
       "      <td>The Country</td>\n",
       "      <td>https://www.nzherald.co.nz/the-country/listen/...</td>\n",
       "      <td>Our rural raconteur adds some serious social a...</td>\n",
       "    </tr>\n",
       "    <tr>\n",
       "      <th>202167</th>\n",
       "      <td></td>\n",
       "      <td>2017-04-28 20:21:00</td>\n",
       "      <td>As it happened: Highlanders v Stormers</td>\n",
       "      <td>[ All the action from the clash between the Hi...</td>\n",
       "      <td>NZ Herald</td>\n",
       "      <td>https://www.nzherald.co.nz/sport/news/article....</td>\n",
       "      <td>All the action from the clash between the High...</td>\n",
       "    </tr>\n",
       "    <tr>\n",
       "      <th>39916</th>\n",
       "      <td></td>\n",
       "      <td>2017-11-26 19:59:00</td>\n",
       "      <td>As it happened: Black Sticks v Netherlands, Ho...</td>\n",
       "      <td>[ All the action as the women's Black Sticks t...</td>\n",
       "      <td>NZ Herald</td>\n",
       "      <td>https://www.nzherald.co.nz/bay-of-plenty-times...</td>\n",
       "      <td>All the action as the women's Black Sticks too...</td>\n",
       "    </tr>\n",
       "    <tr>\n",
       "      <th>115644</th>\n",
       "      <td></td>\n",
       "      <td>2017-11-10 12:56:00</td>\n",
       "      <td>Coach Steve: Going Gorillas in Paris</td>\n",
       "      <td>[ Coach Steve channels his inner Kanye West as...</td>\n",
       "      <td>NZ Herald</td>\n",
       "      <td>https://www.nzherald.co.nz/sport/news/article....</td>\n",
       "      <td>Coach Steve channels his inner Kanye West as h...</td>\n",
       "    </tr>\n",
       "    <tr>\n",
       "      <th>159752</th>\n",
       "      <td></td>\n",
       "      <td>2016-05-21 21:49:00</td>\n",
       "      <td>As it happened: Warriors v Raiders</td>\n",
       "      <td>[ The play-by-play as the New Zealand Warriors...</td>\n",
       "      <td>NZ Herald</td>\n",
       "      <td>https://www.nzherald.co.nz/sport/news/article....</td>\n",
       "      <td>The play-by-play as the New Zealand Warriors f...</td>\n",
       "    </tr>\n",
       "    <tr>\n",
       "      <th>182616</th>\n",
       "      <td></td>\n",
       "      <td>2016-06-14 13:29:00</td>\n",
       "      <td>The Country Today - Tuesday 14th June 2016</td>\n",
       "      <td>[ On today's show: Dick Taylor, Damien O'Conno...</td>\n",
       "      <td>The Country</td>\n",
       "      <td>https://www.nzherald.co.nz/the-country/listen/...</td>\n",
       "      <td>On today's show: Dick Taylor, Damien O'Connor,...</td>\n",
       "    </tr>\n",
       "    <tr>\n",
       "      <th>2145</th>\n",
       "      <td>Niall Anderson niall.anderson@nzherald.co.nz @...</td>\n",
       "      <td>2016-11-15 18:45:00</td>\n",
       "      <td>As it happened: All Whites v New Caledonia</td>\n",
       "      <td>[ All the bizarre action from the All Whites' ...</td>\n",
       "      <td></td>\n",
       "      <td>https://www.nzherald.co.nz/sport/news/article....</td>\n",
       "      <td>All the bizarre action from the All Whites' cl...</td>\n",
       "    </tr>\n",
       "    <tr>\n",
       "      <th>265030</th>\n",
       "      <td></td>\n",
       "      <td>2017-08-27 06:19:00</td>\n",
       "      <td>Live updates: Black Ferns v England</td>\n",
       "      <td>[ Join us here for live updates of the women's...</td>\n",
       "      <td>NZ Herald</td>\n",
       "      <td>https://www.nzherald.co.nz/rugby/news/article....</td>\n",
       "      <td>Join us here for live updates of the women's W...</td>\n",
       "    </tr>\n",
       "    <tr>\n",
       "      <th>221138</th>\n",
       "      <td></td>\n",
       "      <td>2013-10-17 13:25:00</td>\n",
       "      <td>Obama to speak from the White House Wednesday ...</td>\n",
       "      <td>[ WASHINGTON (AP) Obama to speak from the Whit...</td>\n",
       "      <td>AP</td>\n",
       "      <td>https://www.nzherald.co.nz/world/news/article....</td>\n",
       "      <td>WASHINGTON (AP) Obama to speak from the White ...</td>\n",
       "    </tr>\n",
       "    <tr>\n",
       "      <th>281999</th>\n",
       "      <td></td>\n",
       "      <td>2010-12-22 18:34:00</td>\n",
       "      <td>Rugby: Mignoni to retire</td>\n",
       "      <td>[ Toulon's France halfback Pierre Mignoni will...</td>\n",
       "      <td>NZ Herald</td>\n",
       "      <td>https://www.nzherald.co.nz/rugby/news/article....</td>\n",
       "      <td>Toulon's France halfback Pierre Mignoni will r...</td>\n",
       "    </tr>\n",
       "  </tbody>\n",
       "</table>\n",
       "</div>"
      ],
      "text/plain": [
       "                                                   byline                date  \\\n",
       "182570                                                    2016-06-13 14:25:00   \n",
       "202167                                                    2017-04-28 20:21:00   \n",
       "39916                                                     2017-11-26 19:59:00   \n",
       "115644                                                    2017-11-10 12:56:00   \n",
       "159752                                                    2016-05-21 21:49:00   \n",
       "182616                                                    2016-06-14 13:29:00   \n",
       "2145    Niall Anderson niall.anderson@nzherald.co.nz @... 2016-11-15 18:45:00   \n",
       "265030                                                    2017-08-27 06:19:00   \n",
       "221138                                                    2013-10-17 13:25:00   \n",
       "281999                                                    2010-12-22 18:34:00   \n",
       "\n",
       "                                                 headline  \\\n",
       "182570      Jim Hopkins gets serious about Rachel Stewart   \n",
       "202167             As it happened: Highlanders v Stormers   \n",
       "39916   As it happened: Black Sticks v Netherlands, Ho...   \n",
       "115644               Coach Steve: Going Gorillas in Paris   \n",
       "159752                 As it happened: Warriors v Raiders   \n",
       "182616         The Country Today - Tuesday 14th June 2016   \n",
       "2145           As it happened: All Whites v New Caledonia   \n",
       "265030                Live updates: Black Ferns v England   \n",
       "221138  Obama to speak from the White House Wednesday ...   \n",
       "281999                           Rugby: Mignoni to retire   \n",
       "\n",
       "                                               paragraphs syndicator_name  \\\n",
       "182570  [ Our rural raconteur adds some serious social...     The Country   \n",
       "202167  [ All the action from the clash between the Hi...       NZ Herald   \n",
       "39916   [ All the action as the women's Black Sticks t...       NZ Herald   \n",
       "115644  [ Coach Steve channels his inner Kanye West as...       NZ Herald   \n",
       "159752  [ The play-by-play as the New Zealand Warriors...       NZ Herald   \n",
       "182616  [ On today's show: Dick Taylor, Damien O'Conno...     The Country   \n",
       "2145    [ All the bizarre action from the All Whites' ...                   \n",
       "265030  [ Join us here for live updates of the women's...       NZ Herald   \n",
       "221138  [ WASHINGTON (AP) Obama to speak from the Whit...              AP   \n",
       "281999  [ Toulon's France halfback Pierre Mignoni will...       NZ Herald   \n",
       "\n",
       "                                                      url  \\\n",
       "182570  https://www.nzherald.co.nz/the-country/listen/...   \n",
       "202167  https://www.nzherald.co.nz/sport/news/article....   \n",
       "39916   https://www.nzherald.co.nz/bay-of-plenty-times...   \n",
       "115644  https://www.nzherald.co.nz/sport/news/article....   \n",
       "159752  https://www.nzherald.co.nz/sport/news/article....   \n",
       "182616  https://www.nzherald.co.nz/the-country/listen/...   \n",
       "2145    https://www.nzherald.co.nz/sport/news/article....   \n",
       "265030  https://www.nzherald.co.nz/rugby/news/article....   \n",
       "221138  https://www.nzherald.co.nz/world/news/article....   \n",
       "281999  https://www.nzherald.co.nz/rugby/news/article....   \n",
       "\n",
       "                                                  article  \n",
       "182570  Our rural raconteur adds some serious social a...  \n",
       "202167  All the action from the clash between the High...  \n",
       "39916   All the action as the women's Black Sticks too...  \n",
       "115644  Coach Steve channels his inner Kanye West as h...  \n",
       "159752  The play-by-play as the New Zealand Warriors f...  \n",
       "182616  On today's show: Dick Taylor, Damien O'Connor,...  \n",
       "2145    All the bizarre action from the All Whites' cl...  \n",
       "265030  Join us here for live updates of the women's W...  \n",
       "221138  WASHINGTON (AP) Obama to speak from the White ...  \n",
       "281999  Toulon's France halfback Pierre Mignoni will r...  "
      ]
     },
     "execution_count": 17,
     "metadata": {},
     "output_type": "execute_result"
    }
   ],
   "source": [
    "herald_data[herald_data.article.str.len() < 100].sample(10)"
   ]
  },
  {
   "cell_type": "markdown",
   "metadata": {},
   "source": [
    "### Filtering by article length"
   ]
  },
  {
   "cell_type": "markdown",
   "metadata": {},
   "source": [
    "Below is the log plot of the distribution of article lengths. Turns out this distribution is quite well defined, and in particular it looks like we won't miss the articles with fewer than $\\mathrm{exp}(5)$ characters in them."
   ]
  },
  {
   "cell_type": "code",
   "execution_count": 18,
   "metadata": {},
   "outputs": [
    {
     "data": {
      "text/plain": [
       "<matplotlib.axes._subplots.AxesSubplot at 0x7fd810a75080>"
      ]
     },
     "execution_count": 18,
     "metadata": {},
     "output_type": "execute_result"
    },
    {
     "data": {
      "image/png": "[encoded data removed]",
      "text/plain": [
       "<Figure size 432x288 with 1 Axes>"
      ]
     },
     "metadata": {
      "needs_background": "light"
     },
     "output_type": "display_data"
    }
   ],
   "source": [
    "np.log(herald_data.article.str.len()).plot(kind = 'hist', bins = 200)"
   ]
  },
  {
   "cell_type": "code",
   "execution_count": 19,
   "metadata": {},
   "outputs": [],
   "source": [
    "herald_data = herald_data[herald_data.article.str.len() > np.exp(5)]"
   ]
  },
  {
   "cell_type": "markdown",
   "metadata": {},
   "source": [
    "Now there are still some html-esque characters in the data. We will find them, and replace them."
   ]
  },
  {
   "cell_type": "code",
   "execution_count": 20,
   "metadata": {},
   "outputs": [
    {
     "data": {
      "text/plain": [
       "{'&amp;', '&gt;', '&lt;'}"
      ]
     },
     "execution_count": 20,
     "metadata": {},
     "output_type": "execute_result"
    }
   ],
   "source": [
    "# Find all of the html-text\n",
    "set(re.findall('&[A-z0-9]+;', ' '.join(herald_data.article.values)))"
   ]
  },
  {
   "cell_type": "code",
   "execution_count": 21,
   "metadata": {},
   "outputs": [],
   "source": [
    "def replace_html_text(s):\n",
    "    '''\n",
    "    Replace any cases of weird html strings\n",
    "    '''\n",
    "    return (s.replace(\"&amp;\", \"&\")\n",
    "             .replace('&gt;', '>')\n",
    "             .replace('&lt;', '<'))"
   ]
  },
  {
   "cell_type": "code",
   "execution_count": 22,
   "metadata": {},
   "outputs": [],
   "source": [
    "# Fix html text in articles\n",
    "herald_data['article'] = herald_data['article'].apply(replace_html_text)"
   ]
  },
  {
   "cell_type": "markdown",
   "metadata": {},
   "source": [
    "We can also fix all of the paragraphs to remove whitespace, and standardise the number of lines between paragraphs."
   ]
  },
  {
   "cell_type": "code",
   "execution_count": null,
   "metadata": {},
   "outputs": [],
   "source": [
    "def fix_paragraphs(s):\n",
    "    '''\n",
    "    Fix any paragraphs in s\n",
    "    '''\n",
    "    paragraphs = []\n",
    "    for par in s.split(\"\\n\"):\n",
    "        par = par.strip()\n",
    "        if len(par) == 0:\n",
    "            continue\n",
    "        paragraphs.append(par)\n",
    "    return \"\\n\\n\".join(paragraphs)"
   ]
  },
  {
   "cell_type": "code",
   "execution_count": null,
   "metadata": {},
   "outputs": [],
   "source": [
    "herald_data['article'] = herald_data['article'].apply(fix_paragraphs)"
   ]
  },
  {
   "cell_type": "code",
   "execution_count": null,
   "metadata": {},
   "outputs": [
    {
     "data": {
      "text/plain": [
       "{'<\\n\\nBCC: >',\n",
       " \"<\\n\\nRE: Birds\\n\\nWe might have to reconsider our strategy. No one seems fussed by policy. It's all secret donors and milky liaisons. Given Sealord Shane's latest diatribe, how about calling for an inquiry into mollyhawks? Also mollygarchs and mollyopolies, and possibly mollycoddling. Fun stuff. Maybe we could ask Molly Ringwald to dress up as a seagull and promote solar power. Loved her in The Breakfast Club.\\n\\nArohanui, Clint\\n\\nFROM: >\",\n",
       " '<\\n\\nRE: DPM, etc\\n\\nA word on the deputy prime minister plan for the inevitable Green-Labour coalition. There will be four. The two co-leaders, plus one collective consciousness and another crowd-sourced from the internet.\\n\\nKia Kaha\\n\\nMetirisell\\n\\nP.S. Turns out the postmodern mollyhawk is mightier than the medieval mackerel, Jonesy. Go stick that on your fracking credit card, cobber.\\n\\nFROM: >',\n",
       " '<\\n\\nRE: FW: SEEKING YOUR IMMEDIATE ASSISTANCE, FROM CLOSE AIDE TO THE FORMER PRESIDENT OF THE DEMOCRATIC REPUBLIC OF CONGO\\n\\nListen up, pricks, this seems like a bloody good prospect. One of you look into it pronto, will you?\\n\\nPrebbs\\n\\nFROM: >',\n",
       " \"<\\n\\nRE: Forward together\\n\\nYou guys are the best. Don't want to harsh anyone's buzz but please try to resist going after Mr Key on the reptile alien allegations. We have many valuable supporters among the lizard community. And we really need to get our ducks in a row on visits to the Dotcom mansion.\\n\\nKia kaha,\\n\\nClint and the collective\\n\\nTO: >\",\n",
       " \"<\\n\\nRE: Winston Peters\\n\\nThe New Zealand First position could not be clearer. Our bottom line is we will not be supporting any party that fails to understand that we have been totally unambiguous and transparent, listen to this because this is important, that we could not be more explicit, that therewill be no wiffle-waffle and it's all there in our manifesto which commentators would be well advised to read. Wewill not waver for a moment from that course. With the greatest respect, whaton earth is wrong with you?\\n\\nRHWP\\n\\nFROM: >\",\n",
       " \"<\\n\\nRE: bam bam bam!\\n\\nWow! Three strikes for burglary worked a charm. We're on a roll, I feel alive again, like some modern-day Odysseus or Jon Bon Jovi. People clearly prefer this kind of policy to thoroughbred libertarian philosophy agonisingly crafted over decades. Burglar beware! Very heaven! I could see the terror in Epsom voters' eyes transmogrify into vengeance and delight even as I spoke. This is the power of the active state. More prisons. More police. More hospitals. More everything! Grow the government! Higher taxes! More borrowing! What does everyone think?\\n\\nLove, Jamie\\n\\nFROM: >\",\n",
       " '<\\n\\nTO: >',\n",
       " '< /strong>',\n",
       " '< by Blair Voorend>',\n",
       " '</i>',\n",
       " '</strong>',\n",
       " '<6>',\n",
       " '<>',\n",
       " \"<a href='http://www.nzherald.co.nz/nz/news/article.cfm?c_id=1&objectid=11484680' target='_blank'>\",\n",
       " '<br/>',\n",
       " '<inline type=\"photogallery\" id=\"10426\" align=\"outside\" embed=\"no\" />',\n",
       " '<inline type=\"photogallery\" id=\"11081\" align=\"outside\" embed=\"no\" />',\n",
       " '<inline type=\"photogallery\" id=\"11524\" align=\"outside\" embed=\"no\" />',\n",
       " '<inline type=\"poll\" id=\"5217\" align=\"outside\"/>',\n",
       " '<inline type=\"recurring-inline\" id=\"1003\" align=\"outside\" enforce-sites=\"no\" />',\n",
       " '<inline type=\"recurring-inline\" id=\"1233\" align=\"normal\" enforce-sites=\"no\" />',\n",
       " '<inline type=\"video\" id=\"11568\" align=\"normal\"/>',\n",
       " '<inline type=\"video\" id=\"11835\" align=\"normal\"/>',\n",
       " '<inline type=\"video\" id=\"11836\" align=\"normal\"/>'}"
      ]
     },
     "execution_count": 25,
     "metadata": {},
     "output_type": "execute_result"
    }
   ],
   "source": [
    "# Find all of the html-text\n",
    "set(re.findall('<[^>]{,800}>', ' '.join(herald_data.article.values)))"
   ]
  },
  {
   "cell_type": "code",
   "execution_count": null,
   "metadata": {},
   "outputs": [
    {
     "name": "stdout",
     "output_type": "stream",
     "text": [
      "This week a nation heads to the polls for one of the most important votes in its history.\n",
      "\n",
      "Meanwhile in New Zealand we'll be deciding which of the minor parties John Key has to call first this Sunday.\n",
      "\n",
      "Cynical? Me?\n",
      "\n",
      "Well, there's no doubt the stakes around the Scottish independence vote on Thursday are historic in scale. Here in New Zealand you could make the case - and plenty on the left do - that this election also represents a chance for historic change. You could make that case but, with just days to go, the polls suggest a large chunk of the public just aren't with you.\n",
      "\n",
      "Even after the revelations of the Dirty Politics saga and the late departure of a senior government minister, it does not feel as if there is great momentum for historic political change right now.\n",
      "\n",
      "Despite the scandals which ignited the early part of the campaign, things seem to have settled back to a quieter, more concerted debate.\n",
      "\n",
      "Last week it seemed as if there was a bigger buzz about the Apple smartwatch and a South African murder trial than there was about tax policy or even personality politics.\n",
      "\n",
      "Perhaps there was some political fatigue and interest will pick up again this week with new revelations due today from Kim Dotcom. After what we've seen in the past few weeks it will need to be a monumental reveal to have any major impact.\n",
      "\n",
      "Polls can be wrong and the vagaries of MMP mean nothing is certain. A bigger-than-expected turnout on Saturday might change the dynamic. But I'd be surprised.\n",
      "\n",
      "It's the economy. It always is. And that remains benign.\n",
      "\n",
      "The macroeconomic cracks that are starting to appear as dairy prices fall are a long way from translating to the ordinary voter's pocket.\n",
      "\n",
      "In fact, in the short term, a slower growth track means interest rates are staying lower for longer.\n",
      "\n",
      "The dollar has started falling - not so much that imports are markedly more expensive but enough to provide a ray of hope for small exporters.\n",
      "\n",
      "In many ways economic conditions are right where John Key and Bill English want them in the run-up to Saturday's vote.\n",
      "\n",
      "That makes life extremely tough for the Opposition. There is a case for National doing more to transform the economy away from a reliance on commodities, just as there was a case for it to take a look at some of the less palatable ways some of its members were doing politics.\n",
      "\n",
      "But John Key continues to prove highly adaptable and unafraid to take the party in directions that head off opponents - even if that has the hard right calling socialism.\n",
      "\n",
      "It's hard to make the case for New Zealand still being an international poster child for neo-liberal doctrine when both our major parties are in agreement on the need to subsidise wages - well into middle income brackets - and both are now prepared to subsidise first-home buyers.\n",
      "\n",
      "Meanwhile tax debate, on the rare occasions it has managed to grab any headlines, hasn't gone Labour's way.\n",
      "\n",
      "The capital gains tax was always going to be a hard sell. The policy doesn't actually go down too badly with senior tax partners and stockbrokers. David Parker put it well at the Mood of the Boardroom debate when he told the audience of business leaders that the policy would create a neutral tax environment which encouraged more capital to flow to the productive business sector.\n",
      "\n",
      "The problem for Labour is that the audience is not switching sides this time. Meanwhile, buying a second house and doing it up for the capital gain has become the most obvious path to financial security for many middle and working-class New Zealanders who would have traditionally come from Labour-voting backgrounds.\n",
      "\n",
      "National's talk of tax cuts in 2017 is cynical. It looks a lot as if they were hoping not to deploy them in this campaign and panicked at the height of the dirty politics furore. It certainly seemed to catch Bill English off guard and his attempts to justify it from a fiscally responsible point of view came across as half-hearted when he was put on the spot at the Mood of the Boardroom.\n",
      "\n",
      "But the policy is all about providing a stark contrast with Labour, further highlighting the Opposition's higher tax policy by talking about lower taxes.\n",
      "\n",
      "Whatever happens on Saturday, whichever brand of government New Zealand chooses, we should take heart that one of the central debating points of this campaign has been fiscal responsibility.\n",
      "\n",
      "Labour and the Greens haven't been shy on this issue.\n",
      "\n",
      "As Business New Zealand's Phil O'Reilly has pointed out, a scenario where the major parties are all accusing each other of being fiscally irresponsible at least indicates an understanding of how important this issue is.\n",
      "\n",
      "Which version of the books you buy is your choice.\n",
      "\n",
      "But keeping them balanced is crucial to maintaining the kind of economic stability New Zealand needs to create wealth and address its problems in whatever manner we democratically choose.\n"
     ]
    }
   ],
   "source": [
    "article = herald_data.sample(1).article.values[0]\n",
    "print(article)"
   ]
  },
  {
   "cell_type": "code",
   "execution_count": null,
   "metadata": {},
   "outputs": [],
   "source": [
    "if not os.path.exists('../data/articles.corpus') or OVERWRITE:\n",
    "    with open('../data/articles.corpus', 'w') as corpus_file:\n",
    "        for i, row in herald_data.iterrows():\n",
    "            corpus_file.write('\\n'.join([row['headline'], row['article']]) + \"\\n\\n\")"
   ]
  },
  {
   "cell_type": "code",
   "execution_count": null,
   "metadata": {},
   "outputs": [],
   "source": [
    "if not os.path.exists(\"../data/herald_data.csv\") or OVERWRITE:\n",
    "    herald_data.to_csv(\"../data/herald_data.csv\", index = False)"
   ]
  },
  {
   "cell_type": "code",
   "execution_count": null,
   "metadata": {},
   "outputs": [],
   "source": [
    "herald_data = herald_data.reindex()"
   ]
  },
  {
   "cell_type": "code",
   "execution_count": null,
   "metadata": {},
   "outputs": [],
   "source": [
    "herald_data.reset_index(drop = True, inplace = True)"
   ]
  },
  {
   "cell_type": "code",
   "execution_count": null,
   "metadata": {},
   "outputs": [],
   "source": [
    "herald_data.info()"
   ]
  }
 ],
 "metadata": {
  "kernelspec": {
   "display_name": "Python 3",
   "language": "python",
   "name": "python3"
  },
  "language_info": {
   "codemirror_mode": {
    "name": "ipython",
    "version": 3
   },
   "file_extension": ".py",
   "mimetype": "text/x-python",
   "name": "python",
   "nbconvert_exporter": "python",
   "pygments_lexer": "ipython3",
   "version": "3.5.3"
  }
 },
 "nbformat": 4,
 "nbformat_minor": 2
}

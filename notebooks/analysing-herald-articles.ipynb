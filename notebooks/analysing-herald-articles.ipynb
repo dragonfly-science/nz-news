{
 "cells": [
  {
   "cell_type": "markdown",
   "metadata": {},
   "source": [
    "# Analysing Herald Articles"
   ]
  },
  {
   "cell_type": "code",
   "execution_count": 1,
   "metadata": {},
   "outputs": [],
   "source": [
    "OVERWRITE = True"
   ]
  },
  {
   "cell_type": "markdown",
   "metadata": {},
   "source": [
    "Here I'll be analysing over 300,000 articles from the NZ Herald."
   ]
  },
  {
   "cell_type": "code",
   "execution_count": 2,
   "metadata": {},
   "outputs": [],
   "source": [
    "# The usual suspects\n",
    "import numpy as np\n",
    "import pandas as pd\n",
    "import matplotlib.pyplot as plt\n",
    "%matplotlib inline\n",
    "\n",
    "# For this analysis\n",
    "import os\n",
    "import re\n",
    "import json\n",
    "import jellyfish"
   ]
  },
  {
   "cell_type": "markdown",
   "metadata": {},
   "source": [
    "The articles are recorded as json. Here is one example:"
   ]
  },
  {
   "cell_type": "code",
   "execution_count": 3,
   "metadata": {},
   "outputs": [
    {
     "name": "stdout",
     "output_type": "stream",
     "text": [
      "{\"headline\": [\" Live: Christchurch mosque shootings - NZ in mourning as 49 people killed and more than 40 injured in terror attack \", \" \"], \"date\": \"16 Mar, 2019 9:15am\", \"url\": \"https://www.nzherald.co.nz/nz/news/article.cfm?c_id=1&objectid=12213236\", \"syndicator_name\": [\"NZ Herald\"], \"byline\": null, \"paragraphs\": [\" KEY POINTS:\\n• 36 mins of terror: Police confirm sole gunman responsible for both mosque shootings\\n• PM Ardern says gunman \\\"absolutely\\\" intended to continue his attack\\n• Australian-born Dunedin resident Brenton Harrison Tarrant appeared in court today \\n• 49 are confirmed dead, victims range from 2 to older than 60\\n• 12 people remain in critical care as survivors' harrowing tales emerge\\n• Attorney General says semi-automatic weapons will be banned \\n• Kiwis have already donated more than $2.5m\", \" New Zealand is in mourning after the deadly massacre at two Christchurch mosques. Join us for live updates as the country comes to grips with the tragedy.\"]}\n"
     ]
    }
   ],
   "source": [
    "! head -n 1 ../news/nzherald.json"
   ]
  },
  {
   "cell_type": "code",
   "execution_count": 4,
   "metadata": {},
   "outputs": [],
   "source": [
    "! head ../news/nzherald.json > ../data/nzherald_sample.json"
   ]
  },
  {
   "cell_type": "code",
   "execution_count": 5,
   "metadata": {},
   "outputs": [
    {
     "name": "stdout",
     "output_type": "stream",
     "text": [
      "CPU times: user 36.2 s, sys: 1.89 s, total: 38 s\n",
      "Wall time: 38 s\n"
     ]
    }
   ],
   "source": [
    "%%time\n",
    "herald_data = pd.read_json(\"../news/nzherald.json\", lines = True)\n",
    "herald_data.head()"
   ]
  },
  {
   "cell_type": "code",
   "execution_count": 6,
   "metadata": {},
   "outputs": [
    {
     "name": "stdout",
     "output_type": "stream",
     "text": [
      "herald_data has 306696 rows\n"
     ]
    }
   ],
   "source": [
    "print(\"herald_data has {} rows\".format(len(herald_data)))"
   ]
  },
  {
   "cell_type": "markdown",
   "metadata": {},
   "source": [
    "## Clean columns"
   ]
  },
  {
   "cell_type": "code",
   "execution_count": 7,
   "metadata": {},
   "outputs": [],
   "source": [
    "def delist_entry(x):\n",
    "    '''\n",
    "    Extracts and cleans text in a list\n",
    "    '''\n",
    "    if isinstance(x, list):\n",
    "        x = ' '.join(x).strip()\n",
    "        return x\n",
    "    elif x is None:\n",
    "        return ''\n",
    "    else:\n",
    "        raise ValueError(\"Type is not list or None: {}\".format(x))"
   ]
  },
  {
   "cell_type": "code",
   "execution_count": 8,
   "metadata": {},
   "outputs": [],
   "source": [
    "for col in ['byline', 'headline', 'syndicator_name']:\n",
    "    herald_data[col] = herald_data[col].apply(delist_entry).str.replace('\\s{2,}', ' ', regex = True)\n",
    "\n",
    "# Fix bylines\n",
    "herald_data['byline'] = (herald_data.byline\n",
    "    .str.replace('^By:? ', '', regex = True))\n",
    "    \n",
    "# Create articles column\n",
    "herald_data['article'] = (herald_data['paragraphs']\n",
    "    .apply(lambda x: '\\n'.join(x))\n",
    "    .str.strip())"
   ]
  },
  {
   "cell_type": "code",
   "execution_count": 9,
   "metadata": {},
   "outputs": [
    {
     "data": {
      "text/html": [
       "<div>\n",
       "<style scoped>\n",
       "    .dataframe tbody tr th:only-of-type {\n",
       "        vertical-align: middle;\n",
       "    }\n",
       "\n",
       "    .dataframe tbody tr th {\n",
       "        vertical-align: top;\n",
       "    }\n",
       "\n",
       "    .dataframe thead th {\n",
       "        text-align: right;\n",
       "    }\n",
       "</style>\n",
       "<table border=\"1\" class=\"dataframe\">\n",
       "  <thead>\n",
       "    <tr style=\"text-align: right;\">\n",
       "      <th></th>\n",
       "      <th>byline</th>\n",
       "      <th>date</th>\n",
       "      <th>headline</th>\n",
       "      <th>paragraphs</th>\n",
       "      <th>syndicator_name</th>\n",
       "      <th>url</th>\n",
       "      <th>article</th>\n",
       "    </tr>\n",
       "  </thead>\n",
       "  <tbody>\n",
       "    <tr>\n",
       "      <th>0</th>\n",
       "      <td></td>\n",
       "      <td>2019-03-16 09:15:00</td>\n",
       "      <td>Live: Christchurch mosque shootings - NZ in mo...</td>\n",
       "      <td>[ KEY POINTS:\\n• 36 mins of terror: Police con...</td>\n",
       "      <td>NZ Herald</td>\n",
       "      <td>https://www.nzherald.co.nz/nz/news/article.cfm...</td>\n",
       "      <td>KEY POINTS:\\n• 36 mins of terror: Police confi...</td>\n",
       "    </tr>\n",
       "    <tr>\n",
       "      <th>1</th>\n",
       "      <td>Craig Timberg</td>\n",
       "      <td>2019-03-15 14:07:00</td>\n",
       "      <td>Sex, drugs and Peppa Pig: Why you can't trust ...</td>\n",
       "      <td>[ The YouTube video starts with a popular Brit...</td>\n",
       "      <td>Washington Post</td>\n",
       "      <td>https://www.nzherald.co.nz/business/news/artic...</td>\n",
       "      <td>The YouTube video starts with a popular Britis...</td>\n",
       "    </tr>\n",
       "    <tr>\n",
       "      <th>2</th>\n",
       "      <td>Andrea Fox Business Reporter, NZ Herald andrea...</td>\n",
       "      <td>2019-03-15 17:50:00</td>\n",
       "      <td>Fonterra jobs go in shakeup but details under ...</td>\n",
       "      <td>[ Jobs have been lost at Fonterra but New Zeal...</td>\n",
       "      <td></td>\n",
       "      <td>https://www.nzherald.co.nz/business/news/artic...</td>\n",
       "      <td>Jobs have been lost at Fonterra but New Zealan...</td>\n",
       "    </tr>\n",
       "    <tr>\n",
       "      <th>3</th>\n",
       "      <td>Chris Schulz</td>\n",
       "      <td>2019-03-16 08:32:00</td>\n",
       "      <td>Sol3 Mio on turning their back on fame</td>\n",
       "      <td>[ Glasses clink, knives and forks rattle, and ...</td>\n",
       "      <td>Canvas</td>\n",
       "      <td>https://www.nzherald.co.nz/entertainment/news/...</td>\n",
       "      <td>Glasses clink, knives and forks rattle, and yo...</td>\n",
       "    </tr>\n",
       "    <tr>\n",
       "      <th>4</th>\n",
       "      <td></td>\n",
       "      <td>2019-03-15 12:41:00</td>\n",
       "      <td>Continuous Disclosure: Big-money Goodman deal,...</td>\n",
       "      <td>[ Continuous Disclosure is a market news colum...</td>\n",
       "      <td>NZ Herald</td>\n",
       "      <td>https://www.nzherald.co.nz/business/news/artic...</td>\n",
       "      <td>Continuous Disclosure is a market news column,...</td>\n",
       "    </tr>\n",
       "  </tbody>\n",
       "</table>\n",
       "</div>"
      ],
      "text/plain": [
       "                                              byline                date  \\\n",
       "0                                                    2019-03-16 09:15:00   \n",
       "1                                      Craig Timberg 2019-03-15 14:07:00   \n",
       "2  Andrea Fox Business Reporter, NZ Herald andrea... 2019-03-15 17:50:00   \n",
       "3                                       Chris Schulz 2019-03-16 08:32:00   \n",
       "4                                                    2019-03-15 12:41:00   \n",
       "\n",
       "                                            headline  \\\n",
       "0  Live: Christchurch mosque shootings - NZ in mo...   \n",
       "1  Sex, drugs and Peppa Pig: Why you can't trust ...   \n",
       "2  Fonterra jobs go in shakeup but details under ...   \n",
       "3             Sol3 Mio on turning their back on fame   \n",
       "4  Continuous Disclosure: Big-money Goodman deal,...   \n",
       "\n",
       "                                          paragraphs  syndicator_name  \\\n",
       "0  [ KEY POINTS:\\n• 36 mins of terror: Police con...        NZ Herald   \n",
       "1  [ The YouTube video starts with a popular Brit...  Washington Post   \n",
       "2  [ Jobs have been lost at Fonterra but New Zeal...                    \n",
       "3  [ Glasses clink, knives and forks rattle, and ...           Canvas   \n",
       "4  [ Continuous Disclosure is a market news colum...        NZ Herald   \n",
       "\n",
       "                                                 url  \\\n",
       "0  https://www.nzherald.co.nz/nz/news/article.cfm...   \n",
       "1  https://www.nzherald.co.nz/business/news/artic...   \n",
       "2  https://www.nzherald.co.nz/business/news/artic...   \n",
       "3  https://www.nzherald.co.nz/entertainment/news/...   \n",
       "4  https://www.nzherald.co.nz/business/news/artic...   \n",
       "\n",
       "                                             article  \n",
       "0  KEY POINTS:\\n• 36 mins of terror: Police confi...  \n",
       "1  The YouTube video starts with a popular Britis...  \n",
       "2  Jobs have been lost at Fonterra but New Zealan...  \n",
       "3  Glasses clink, knives and forks rattle, and yo...  \n",
       "4  Continuous Disclosure is a market news column,...  "
      ]
     },
     "execution_count": 9,
     "metadata": {},
     "output_type": "execute_result"
    }
   ],
   "source": [
    "herald_data.head()"
   ]
  },
  {
   "cell_type": "markdown",
   "metadata": {},
   "source": [
    "### Herald Quiz"
   ]
  },
  {
   "cell_type": "markdown",
   "metadata": {},
   "source": [
    "There are a number of Herald quiz articles in the `herald_data`. We remove those here."
   ]
  },
  {
   "cell_type": "code",
   "execution_count": 10,
   "metadata": {},
   "outputs": [
    {
     "name": "stdout",
     "output_type": "stream",
     "text": [
      "Found 260 herald quizzes in herald_data\n"
     ]
    },
    {
     "data": {
      "text/html": [
       "<div>\n",
       "<style scoped>\n",
       "    .dataframe tbody tr th:only-of-type {\n",
       "        vertical-align: middle;\n",
       "    }\n",
       "\n",
       "    .dataframe tbody tr th {\n",
       "        vertical-align: top;\n",
       "    }\n",
       "\n",
       "    .dataframe thead th {\n",
       "        text-align: right;\n",
       "    }\n",
       "</style>\n",
       "<table border=\"1\" class=\"dataframe\">\n",
       "  <thead>\n",
       "    <tr style=\"text-align: right;\">\n",
       "      <th></th>\n",
       "      <th>byline</th>\n",
       "      <th>date</th>\n",
       "      <th>headline</th>\n",
       "      <th>paragraphs</th>\n",
       "      <th>syndicator_name</th>\n",
       "      <th>url</th>\n",
       "      <th>article</th>\n",
       "    </tr>\n",
       "  </thead>\n",
       "  <tbody>\n",
       "    <tr>\n",
       "      <th>2871</th>\n",
       "      <td></td>\n",
       "      <td>2017-07-13 05:30:00</td>\n",
       "      <td>Herald daily quiz: July 13</td>\n",
       "      <td>[ • App users try the quiz here.\\n]</td>\n",
       "      <td>NZ Herald</td>\n",
       "      <td>https://www.nzherald.co.nz/nz/news/article.cfm...</td>\n",
       "      <td>• App users try the quiz here.</td>\n",
       "    </tr>\n",
       "    <tr>\n",
       "      <th>2902</th>\n",
       "      <td></td>\n",
       "      <td>2017-07-12 05:30:00</td>\n",
       "      <td>Herald daily quiz: July 12</td>\n",
       "      <td>[ • App users try the quiz here.\\n]</td>\n",
       "      <td>NZ Herald</td>\n",
       "      <td>https://www.nzherald.co.nz/nz/news/article.cfm...</td>\n",
       "      <td>• App users try the quiz here.</td>\n",
       "    </tr>\n",
       "    <tr>\n",
       "      <th>2904</th>\n",
       "      <td></td>\n",
       "      <td>2017-07-07 05:30:00</td>\n",
       "      <td>Herald daily quiz: July 7</td>\n",
       "      <td>[ • App users try the quiz here.\\n]</td>\n",
       "      <td>NZ Herald</td>\n",
       "      <td>https://www.nzherald.co.nz/nz/news/article.cfm...</td>\n",
       "      <td>• App users try the quiz here.</td>\n",
       "    </tr>\n",
       "    <tr>\n",
       "      <th>2906</th>\n",
       "      <td></td>\n",
       "      <td>2017-07-11 05:30:00</td>\n",
       "      <td>Herald daily quiz: July 11</td>\n",
       "      <td>[ • App users try the quiz here.\\n]</td>\n",
       "      <td>NZ Herald</td>\n",
       "      <td>https://www.nzherald.co.nz/nz/news/article.cfm...</td>\n",
       "      <td>• App users try the quiz here.</td>\n",
       "    </tr>\n",
       "    <tr>\n",
       "      <th>2935</th>\n",
       "      <td></td>\n",
       "      <td>2017-04-11 05:30:00</td>\n",
       "      <td>Herald daily quiz: April 11</td>\n",
       "      <td>[]</td>\n",
       "      <td>NZ Herald</td>\n",
       "      <td>https://www.nzherald.co.nz/nz/news/article.cfm...</td>\n",
       "      <td></td>\n",
       "    </tr>\n",
       "  </tbody>\n",
       "</table>\n",
       "</div>"
      ],
      "text/plain": [
       "     byline                date                     headline  \\\n",
       "2871        2017-07-13 05:30:00   Herald daily quiz: July 13   \n",
       "2902        2017-07-12 05:30:00   Herald daily quiz: July 12   \n",
       "2904        2017-07-07 05:30:00    Herald daily quiz: July 7   \n",
       "2906        2017-07-11 05:30:00   Herald daily quiz: July 11   \n",
       "2935        2017-04-11 05:30:00  Herald daily quiz: April 11   \n",
       "\n",
       "                               paragraphs syndicator_name  \\\n",
       "2871  [ • App users try the quiz here.\\n]       NZ Herald   \n",
       "2902  [ • App users try the quiz here.\\n]       NZ Herald   \n",
       "2904  [ • App users try the quiz here.\\n]       NZ Herald   \n",
       "2906  [ • App users try the quiz here.\\n]       NZ Herald   \n",
       "2935                                   []       NZ Herald   \n",
       "\n",
       "                                                    url  \\\n",
       "2871  https://www.nzherald.co.nz/nz/news/article.cfm...   \n",
       "2902  https://www.nzherald.co.nz/nz/news/article.cfm...   \n",
       "2904  https://www.nzherald.co.nz/nz/news/article.cfm...   \n",
       "2906  https://www.nzherald.co.nz/nz/news/article.cfm...   \n",
       "2935  https://www.nzherald.co.nz/nz/news/article.cfm...   \n",
       "\n",
       "                             article  \n",
       "2871  • App users try the quiz here.  \n",
       "2902  • App users try the quiz here.  \n",
       "2904  • App users try the quiz here.  \n",
       "2906  • App users try the quiz here.  \n",
       "2935                                  "
      ]
     },
     "execution_count": 10,
     "metadata": {},
     "output_type": "execute_result"
    }
   ],
   "source": [
    "quiz_rows = herald_data.headline.str.match('Herald [A-z]+ quiz:')\n",
    "print(\"Found {} herald quizzes in herald_data\".format(np.sum(quiz_rows)))\n",
    "herald_data[quiz_rows].head()"
   ]
  },
  {
   "cell_type": "code",
   "execution_count": 11,
   "metadata": {},
   "outputs": [],
   "source": [
    "# Remove daily quiz articles\n",
    "herald_data = herald_data[~herald_data.headline.str.match('Herald [A-z]+ quiz:')]"
   ]
  },
  {
   "cell_type": "markdown",
   "metadata": {},
   "source": [
    "Another issue is Cartoon articles, which contain no article text."
   ]
  },
  {
   "cell_type": "code",
   "execution_count": 12,
   "metadata": {},
   "outputs": [
    {
     "name": "stdout",
     "output_type": "stream",
     "text": [
      "Found 554 herald quizzes in herald_data\n"
     ]
    },
    {
     "data": {
      "text/html": [
       "<div>\n",
       "<style scoped>\n",
       "    .dataframe tbody tr th:only-of-type {\n",
       "        vertical-align: middle;\n",
       "    }\n",
       "\n",
       "    .dataframe tbody tr th {\n",
       "        vertical-align: top;\n",
       "    }\n",
       "\n",
       "    .dataframe thead th {\n",
       "        text-align: right;\n",
       "    }\n",
       "</style>\n",
       "<table border=\"1\" class=\"dataframe\">\n",
       "  <thead>\n",
       "    <tr style=\"text-align: right;\">\n",
       "      <th></th>\n",
       "      <th>byline</th>\n",
       "      <th>date</th>\n",
       "      <th>headline</th>\n",
       "      <th>paragraphs</th>\n",
       "      <th>syndicator_name</th>\n",
       "      <th>url</th>\n",
       "      <th>article</th>\n",
       "    </tr>\n",
       "  </thead>\n",
       "  <tbody>\n",
       "    <tr>\n",
       "      <th>2395</th>\n",
       "      <td></td>\n",
       "      <td>2016-11-05 05:00:00</td>\n",
       "      <td>Cartoon: Auckland ratepayers v Duco</td>\n",
       "      <td>[ None]</td>\n",
       "      <td>NZ Herald</td>\n",
       "      <td>https://www.nzherald.co.nz/sport/news/article....</td>\n",
       "      <td>None</td>\n",
       "    </tr>\n",
       "    <tr>\n",
       "      <th>3632</th>\n",
       "      <td></td>\n",
       "      <td>2014-06-19 05:46:00</td>\n",
       "      <td>Cartoon: Disastrous brain-fade club</td>\n",
       "      <td>[ None]</td>\n",
       "      <td>NZ Herald</td>\n",
       "      <td>https://www.nzherald.co.nz/nz/news/article.cfm...</td>\n",
       "      <td>None</td>\n",
       "    </tr>\n",
       "    <tr>\n",
       "      <th>3663</th>\n",
       "      <td></td>\n",
       "      <td>2016-08-07 05:00:00</td>\n",
       "      <td>Cartoon: The Rio Olympics debt</td>\n",
       "      <td>[ None]</td>\n",
       "      <td>Herald on Sunday</td>\n",
       "      <td>https://www.nzherald.co.nz/sport/news/article....</td>\n",
       "      <td>None</td>\n",
       "    </tr>\n",
       "    <tr>\n",
       "      <th>4806</th>\n",
       "      <td></td>\n",
       "      <td>2012-07-19 05:29:00</td>\n",
       "      <td>Cartoon: Olympics security is but a spoonful o...</td>\n",
       "      <td>[ None]</td>\n",
       "      <td>NZ Herald</td>\n",
       "      <td>https://www.nzherald.co.nz/nz/news/article.cfm...</td>\n",
       "      <td>None</td>\n",
       "    </tr>\n",
       "    <tr>\n",
       "      <th>4812</th>\n",
       "      <td></td>\n",
       "      <td>2012-07-18 05:29:00</td>\n",
       "      <td>Cartoon: Bring your tools, John</td>\n",
       "      <td>[ None]</td>\n",
       "      <td>NZ Herald</td>\n",
       "      <td>https://www.nzherald.co.nz/opinion/news/articl...</td>\n",
       "      <td>None</td>\n",
       "    </tr>\n",
       "  </tbody>\n",
       "</table>\n",
       "</div>"
      ],
      "text/plain": [
       "     byline                date  \\\n",
       "2395        2016-11-05 05:00:00   \n",
       "3632        2014-06-19 05:46:00   \n",
       "3663        2016-08-07 05:00:00   \n",
       "4806        2012-07-19 05:29:00   \n",
       "4812        2012-07-18 05:29:00   \n",
       "\n",
       "                                               headline paragraphs  \\\n",
       "2395                Cartoon: Auckland ratepayers v Duco    [ None]   \n",
       "3632                Cartoon: Disastrous brain-fade club    [ None]   \n",
       "3663                     Cartoon: The Rio Olympics debt    [ None]   \n",
       "4806  Cartoon: Olympics security is but a spoonful o...    [ None]   \n",
       "4812                    Cartoon: Bring your tools, John    [ None]   \n",
       "\n",
       "       syndicator_name                                                url  \\\n",
       "2395         NZ Herald  https://www.nzherald.co.nz/sport/news/article....   \n",
       "3632         NZ Herald  https://www.nzherald.co.nz/nz/news/article.cfm...   \n",
       "3663  Herald on Sunday  https://www.nzherald.co.nz/sport/news/article....   \n",
       "4806         NZ Herald  https://www.nzherald.co.nz/nz/news/article.cfm...   \n",
       "4812         NZ Herald  https://www.nzherald.co.nz/opinion/news/articl...   \n",
       "\n",
       "     article  \n",
       "2395    None  \n",
       "3632    None  \n",
       "3663    None  \n",
       "4806    None  \n",
       "4812    None  "
      ]
     },
     "execution_count": 12,
     "metadata": {},
     "output_type": "execute_result"
    }
   ],
   "source": [
    "cartoon_rows = herald_data.headline.str.match('Cartoon:')\n",
    "print(\"Found {} herald quizzes in herald_data\".format(np.sum(cartoon_rows)))\n",
    "herald_data[cartoon_rows].head()"
   ]
  },
  {
   "cell_type": "code",
   "execution_count": 13,
   "metadata": {},
   "outputs": [],
   "source": [
    "# Remove cartoon articles\n",
    "herald_data = herald_data[~herald_data.headline.str.match('Cartoon:')]"
   ]
  },
  {
   "cell_type": "markdown",
   "metadata": {},
   "source": [
    "Another issue: Paragraphs containing `None` as values, gives rise to articles containing just `'None'`. We can remove those now too."
   ]
  },
  {
   "cell_type": "code",
   "execution_count": 14,
   "metadata": {},
   "outputs": [
    {
     "data": {
      "text/plain": [
       "[' None']         151\n",
       "[' ', ' None']     10\n",
       "Name: paragraphs, dtype: int64"
      ]
     },
     "execution_count": 14,
     "metadata": {},
     "output_type": "execute_result"
    }
   ],
   "source": [
    "herald_data.loc[herald_data.article.str.strip() == 'None', 'paragraphs'].apply(str).value_counts()"
   ]
  },
  {
   "cell_type": "code",
   "execution_count": 15,
   "metadata": {},
   "outputs": [],
   "source": [
    "herald_data = herald_data[herald_data.article != 'None']"
   ]
  },
  {
   "cell_type": "markdown",
   "metadata": {},
   "source": [
    "Now we remove articles with empty contents."
   ]
  },
  {
   "cell_type": "code",
   "execution_count": 16,
   "metadata": {},
   "outputs": [],
   "source": [
    "herald_data = herald_data[herald_data.article.str.len() != 0]"
   ]
  },
  {
   "cell_type": "code",
   "execution_count": 17,
   "metadata": {},
   "outputs": [
    {
     "data": {
      "text/html": [
       "<div>\n",
       "<style scoped>\n",
       "    .dataframe tbody tr th:only-of-type {\n",
       "        vertical-align: middle;\n",
       "    }\n",
       "\n",
       "    .dataframe tbody tr th {\n",
       "        vertical-align: top;\n",
       "    }\n",
       "\n",
       "    .dataframe thead th {\n",
       "        text-align: right;\n",
       "    }\n",
       "</style>\n",
       "<table border=\"1\" class=\"dataframe\">\n",
       "  <thead>\n",
       "    <tr style=\"text-align: right;\">\n",
       "      <th></th>\n",
       "      <th>byline</th>\n",
       "      <th>date</th>\n",
       "      <th>headline</th>\n",
       "      <th>paragraphs</th>\n",
       "      <th>syndicator_name</th>\n",
       "      <th>url</th>\n",
       "      <th>article</th>\n",
       "    </tr>\n",
       "  </thead>\n",
       "  <tbody>\n",
       "    <tr>\n",
       "      <th>19552</th>\n",
       "      <td></td>\n",
       "      <td>2014-01-09 14:00:00</td>\n",
       "      <td>Cycling blackspots: Where needs improvement?</td>\n",
       "      <td>[ Cycling blackspots: Where needs improvement?]</td>\n",
       "      <td>Herald online</td>\n",
       "      <td>https://www.nzherald.co.nz/nz/news/article.cfm...</td>\n",
       "      <td>Cycling blackspots: Where needs improvement?</td>\n",
       "    </tr>\n",
       "    <tr>\n",
       "      <th>226435</th>\n",
       "      <td></td>\n",
       "      <td>2013-11-08 04:56:00</td>\n",
       "      <td>Twitter stock opens at $45.10 on the New York ...</td>\n",
       "      <td>[ NEW YORK (AP) Twitter stock opens at $45.10 ...</td>\n",
       "      <td>AP</td>\n",
       "      <td>https://www.nzherald.co.nz/business/news/artic...</td>\n",
       "      <td>NEW YORK (AP) Twitter stock opens at $45.10 on...</td>\n",
       "    </tr>\n",
       "    <tr>\n",
       "      <th>142976</th>\n",
       "      <td></td>\n",
       "      <td>2007-02-04 02:47:00</td>\n",
       "      <td>Rugby: Wellington Sevens photo gallery</td>\n",
       "      <td>[ ,  View all the action, on and off the field...</td>\n",
       "      <td></td>\n",
       "      <td>https://www.nzherald.co.nz/sport/news/article....</td>\n",
       "      <td>View all the action, on and off the field, fro...</td>\n",
       "    </tr>\n",
       "    <tr>\n",
       "      <th>304724</th>\n",
       "      <td></td>\n",
       "      <td>2013-12-15 02:19:00</td>\n",
       "      <td>State media say China safely soft-landed space...</td>\n",
       "      <td>[ BEIJING (AP) State media say China safely so...</td>\n",
       "      <td>AP</td>\n",
       "      <td>https://www.nzherald.co.nz/world/news/article....</td>\n",
       "      <td>BEIJING (AP) State media say China safely soft...</td>\n",
       "    </tr>\n",
       "    <tr>\n",
       "      <th>241326</th>\n",
       "      <td></td>\n",
       "      <td>2017-11-18 18:50:00</td>\n",
       "      <td>As it happened: Kiwis stunned by Fiji</td>\n",
       "      <td>[ See how the Kiwis' stunning 4-2 Rugby League...</td>\n",
       "      <td>NZ Herald</td>\n",
       "      <td>https://www.nzherald.co.nz/sport/news/article....</td>\n",
       "      <td>See how the Kiwis' stunning 4-2 Rugby League W...</td>\n",
       "    </tr>\n",
       "    <tr>\n",
       "      <th>304635</th>\n",
       "      <td></td>\n",
       "      <td>2013-10-16 11:55:00</td>\n",
       "      <td>England qualifies for World Cup by beating Pol...</td>\n",
       "      <td>[ LONDON (AP) England qualifies for World Cup ...</td>\n",
       "      <td>AP</td>\n",
       "      <td>https://www.nzherald.co.nz/sport/news/article....</td>\n",
       "      <td>LONDON (AP) England qualifies for World Cup by...</td>\n",
       "    </tr>\n",
       "    <tr>\n",
       "      <th>263828</th>\n",
       "      <td></td>\n",
       "      <td>2018-03-10 20:45:00</td>\n",
       "      <td>As it happened: New Zealand Warriors v South S...</td>\n",
       "      <td>[ All the action as the Warriors took on the R...</td>\n",
       "      <td>NZ Herald</td>\n",
       "      <td>https://www.nzherald.co.nz/sport/news/article....</td>\n",
       "      <td>All the action as the Warriors took on the Rab...</td>\n",
       "    </tr>\n",
       "    <tr>\n",
       "      <th>209452</th>\n",
       "      <td></td>\n",
       "      <td>2019-02-26 15:00:00</td>\n",
       "      <td>NZ Herald afternoon quiz: February 26</td>\n",
       "      <td>[ Android users please click here]</td>\n",
       "      <td>NZ Herald</td>\n",
       "      <td>https://www.nzherald.co.nz/quizzes/news/articl...</td>\n",
       "      <td>Android users please click here</td>\n",
       "    </tr>\n",
       "    <tr>\n",
       "      <th>278408</th>\n",
       "      <td></td>\n",
       "      <td>2014-11-24 10:25:00</td>\n",
       "      <td>Player ratings: All Blacks v Wales</td>\n",
       "      <td>[ How the players rated in the All Blacks' 34-...</td>\n",
       "      <td>NZ Herald</td>\n",
       "      <td>https://www.nzherald.co.nz/rugby/news/article....</td>\n",
       "      <td>How the players rated in the All Blacks' 34-16...</td>\n",
       "    </tr>\n",
       "    <tr>\n",
       "      <th>265672</th>\n",
       "      <td></td>\n",
       "      <td>2017-06-27 18:15:00</td>\n",
       "      <td>As it happened: Lions v Hurricanes</td>\n",
       "      <td>[ All the action as the Lions took on the Hurr...</td>\n",
       "      <td>NZ Herald</td>\n",
       "      <td>https://www.nzherald.co.nz/rugby/news/article....</td>\n",
       "      <td>All the action as the Lions took on the Hurric...</td>\n",
       "    </tr>\n",
       "  </tbody>\n",
       "</table>\n",
       "</div>"
      ],
      "text/plain": [
       "       byline                date  \\\n",
       "19552         2014-01-09 14:00:00   \n",
       "226435        2013-11-08 04:56:00   \n",
       "142976        2007-02-04 02:47:00   \n",
       "304724        2013-12-15 02:19:00   \n",
       "241326        2017-11-18 18:50:00   \n",
       "304635        2013-10-16 11:55:00   \n",
       "263828        2018-03-10 20:45:00   \n",
       "209452        2019-02-26 15:00:00   \n",
       "278408        2014-11-24 10:25:00   \n",
       "265672        2017-06-27 18:15:00   \n",
       "\n",
       "                                                 headline  \\\n",
       "19552        Cycling blackspots: Where needs improvement?   \n",
       "226435  Twitter stock opens at $45.10 on the New York ...   \n",
       "142976             Rugby: Wellington Sevens photo gallery   \n",
       "304724  State media say China safely soft-landed space...   \n",
       "241326              As it happened: Kiwis stunned by Fiji   \n",
       "304635  England qualifies for World Cup by beating Pol...   \n",
       "263828  As it happened: New Zealand Warriors v South S...   \n",
       "209452              NZ Herald afternoon quiz: February 26   \n",
       "278408                 Player ratings: All Blacks v Wales   \n",
       "265672                 As it happened: Lions v Hurricanes   \n",
       "\n",
       "                                               paragraphs syndicator_name  \\\n",
       "19552     [ Cycling blackspots: Where needs improvement?]   Herald online   \n",
       "226435  [ NEW YORK (AP) Twitter stock opens at $45.10 ...              AP   \n",
       "142976  [ ,  View all the action, on and off the field...                   \n",
       "304724  [ BEIJING (AP) State media say China safely so...              AP   \n",
       "241326  [ See how the Kiwis' stunning 4-2 Rugby League...       NZ Herald   \n",
       "304635  [ LONDON (AP) England qualifies for World Cup ...              AP   \n",
       "263828  [ All the action as the Warriors took on the R...       NZ Herald   \n",
       "209452                 [ Android users please click here]       NZ Herald   \n",
       "278408  [ How the players rated in the All Blacks' 34-...       NZ Herald   \n",
       "265672  [ All the action as the Lions took on the Hurr...       NZ Herald   \n",
       "\n",
       "                                                      url  \\\n",
       "19552   https://www.nzherald.co.nz/nz/news/article.cfm...   \n",
       "226435  https://www.nzherald.co.nz/business/news/artic...   \n",
       "142976  https://www.nzherald.co.nz/sport/news/article....   \n",
       "304724  https://www.nzherald.co.nz/world/news/article....   \n",
       "241326  https://www.nzherald.co.nz/sport/news/article....   \n",
       "304635  https://www.nzherald.co.nz/sport/news/article....   \n",
       "263828  https://www.nzherald.co.nz/sport/news/article....   \n",
       "209452  https://www.nzherald.co.nz/quizzes/news/articl...   \n",
       "278408  https://www.nzherald.co.nz/rugby/news/article....   \n",
       "265672  https://www.nzherald.co.nz/rugby/news/article....   \n",
       "\n",
       "                                                  article  \n",
       "19552        Cycling blackspots: Where needs improvement?  \n",
       "226435  NEW YORK (AP) Twitter stock opens at $45.10 on...  \n",
       "142976  View all the action, on and off the field, fro...  \n",
       "304724  BEIJING (AP) State media say China safely soft...  \n",
       "241326  See how the Kiwis' stunning 4-2 Rugby League W...  \n",
       "304635  LONDON (AP) England qualifies for World Cup by...  \n",
       "263828  All the action as the Warriors took on the Rab...  \n",
       "209452                    Android users please click here  \n",
       "278408  How the players rated in the All Blacks' 34-16...  \n",
       "265672  All the action as the Lions took on the Hurric...  "
      ]
     },
     "execution_count": 17,
     "metadata": {},
     "output_type": "execute_result"
    }
   ],
   "source": [
    "herald_data[herald_data.article.str.len() < 100].sample(10)"
   ]
  },
  {
   "cell_type": "markdown",
   "metadata": {},
   "source": [
    "### Filtering by article length"
   ]
  },
  {
   "cell_type": "markdown",
   "metadata": {},
   "source": [
    "Below is the log plot of the distribution of article lengths. Turns out this distribution is quite well defined, and in particular it looks like we won't miss the articles with fewer than $\\mathrm{exp}(5)$ characters in them."
   ]
  },
  {
   "cell_type": "code",
   "execution_count": 18,
   "metadata": {},
   "outputs": [
    {
     "data": {
      "text/plain": [
       "<matplotlib.axes._subplots.AxesSubplot at 0x7f0b510a2a20>"
      ]
     },
     "execution_count": 18,
     "metadata": {},
     "output_type": "execute_result"
    },
    {
     "data": {
      "image/png": "[encoded data removed]",
      "text/plain": [
       "<Figure size 432x288 with 1 Axes>"
      ]
     },
     "metadata": {
      "needs_background": "light"
     },
     "output_type": "display_data"
    }
   ],
   "source": [
    "np.log(herald_data.article.str.len()).plot(kind = 'hist', bins = 200)"
   ]
  },
  {
   "cell_type": "code",
   "execution_count": 19,
   "metadata": {},
   "outputs": [],
   "source": [
    "herald_data = herald_data[herald_data.article.str.len() > np.exp(5)]"
   ]
  },
  {
   "cell_type": "markdown",
   "metadata": {},
   "source": [
    "Now there are still some html-esque characters in the data. We will find them, and replace them."
   ]
  },
  {
   "cell_type": "code",
   "execution_count": 20,
   "metadata": {},
   "outputs": [
    {
     "data": {
      "text/plain": [
       "{'&amp;', '&gt;', '&lt;'}"
      ]
     },
     "execution_count": 20,
     "metadata": {},
     "output_type": "execute_result"
    }
   ],
   "source": [
    "# Find all of the html-text\n",
    "set(re.findall('&[A-z0-9]+;', ' '.join(herald_data.article.values)))"
   ]
  },
  {
   "cell_type": "code",
   "execution_count": 21,
   "metadata": {},
   "outputs": [],
   "source": [
    "def replace_html_text(s):\n",
    "    '''\n",
    "    Replace any cases of weird html strings\n",
    "    '''\n",
    "    return (s.replace(\"&amp;\", \"&\")\n",
    "             .replace('&gt;', '>')\n",
    "             .replace('&lt;', '<'))"
   ]
  },
  {
   "cell_type": "code",
   "execution_count": 22,
   "metadata": {},
   "outputs": [],
   "source": [
    "# Fix html text in articles\n",
    "herald_data['article'] = herald_data['article'].apply(replace_html_text)"
   ]
  },
  {
   "cell_type": "markdown",
   "metadata": {},
   "source": [
    "We can also fix all of the paragraphs to remove whitespace, and standardise the number of lines between paragraphs."
   ]
  },
  {
   "cell_type": "code",
   "execution_count": 23,
   "metadata": {},
   "outputs": [],
   "source": [
    "def fix_paragraphs(s):\n",
    "    '''\n",
    "    Fix any paragraphs in s\n",
    "    '''\n",
    "    paragraphs = []\n",
    "    for par in s.split(\"\\n\"):\n",
    "        par = par.strip()\n",
    "        if len(par) == 0:\n",
    "            continue\n",
    "        paragraphs.append(par)\n",
    "    return \"\\n\\n\".join(paragraphs)"
   ]
  },
  {
   "cell_type": "code",
   "execution_count": 24,
   "metadata": {},
   "outputs": [],
   "source": [
    "herald_data['article'] = herald_data['article'].apply(fix_paragraphs)"
   ]
  },
  {
   "cell_type": "code",
   "execution_count": 25,
   "metadata": {},
   "outputs": [
    {
     "name": "stdout",
     "output_type": "stream",
     "text": [
      "The best thing about talking to New Zealand's Casey Robertson is her straight talking no-nonsense assessment of how her team are shaping up for a fourth World Cup title in a row, scrumqueens.com writes.\n",
      "\n",
      "Robertson herself is looking at her third World Cup title but the previous two victories came when she was lining out in the front row for New Zealand - and she's much happier now in her favoured positons in the backrow.\n",
      "\n",
      "\"I think it's fair to say I disliked propping. Back in 2002 the coaches were looking for mobile props so I went in there to get in the squad and stayed there for five years and two World Cups which we won.\n",
      "\n",
      "It wasn't easy, I wasn't playing there at all at any other level and after the last World Cup in 2006 I decided to call a halt to it.\n",
      "\n",
      "\"I had slipped a disk in my neck and was experiencing really bad headaches. I was playing club and for Canterbury at flanker and 8 which I loved and I decided to just myself available again as a backrow player for New Zealand.\"\n",
      "\n",
      "It was a brave decision for the experienced player who knew that the Black Ferns had great backrow talent who had been making strides while she'd been toiling in the front row.\n",
      "\n",
      "It was a move that took a while to pay off as she was omitted from the squad who went to Australia in\n",
      "\n",
      "2008 for a two test series, but her hard work made good when she was back in the squad for the tour to England last year.\n",
      "\n",
      "New Zealand had mixed fortunes on that tour - winning the first test and the game against England A but losing the final test at Twickenham. She says the tour wasn't as enjoyable as others she'd been on.\n",
      "\n",
      "\"Terrible is a good way to put how that went! It was one of those trips where we knew the budget was always going to be very tight but I think we were could have been treated better. We were staying miles out of anywhere and the accommodation and food, things like that, were pretty poor. We played well at the start but we had a small squad and it was tough going so everything accumulated towards the end and it showed in the last test. We didn't play well and we were punished for it.\"\n",
      "\n",
      "\"Fair play to England they took their chances but they had two squads to play us and they were at home and we still managed to win two of the test games so we didn't do too badly to be honest.\"\n",
      "\n",
      "Roberston accepts that New Zealand's preparation for this World Cup has been less intense than the likes of England, and France who they face next but she says that could be a benefit too.\n",
      "\n",
      "\"I think if we play how we want to play, a wide expansive fast game, no-one will match us and in a way it's good we don't play other teams as much because they would get used to the style we like and work out better how to combat that. So sometimes being unknown is a benefit. I don't envy the teams who play all the time really though. I like my life, I work fulltime on the farm at Mount Hutt, and I feel a bit more balanced. I don't sleep and breathe rugby, I train with the local men's team and it's like a small community and it's kept rugby exciting for me the last few years.\"\n",
      "\n",
      "Robertson got her World Cup off to a storming start with a player of the match performance against South Africa.\n",
      "\n",
      "\"We have brought a a higher split of forwards here and I definitely needed to start with a bang to try and help get selected for the matches coming up now. I was disappointed to not be part of the squad for the Australia game - I have never played them - but I understand we have to rotate so I was raring to go for the Wales match which was scrappy but we pulled through.\"\n",
      "\n",
      "Worryingly for France, who they play next, Roberston fully believes New Zealand have lots of room for improvement.\n",
      "\n",
      "\"In the Wales match we didn't really stick to our plan or stay calm enough but we did enough. At times we look really good and at times we have looked poor. We're finding the breakdown area quite tough - after the first game we felt that we weren't being allowed to clear it out or use our feet and it's frustrating as teams playing us want to slow us down so the game suffers. That's the benefit of moving on to the semis now. As we play better teams hopefully we can clear it out faster and have a bit more competition there. We have a lot of places to improve.\"\n",
      "\n",
      "Of France, who they beat 40-10 at the last World Cup, she expects a tussle.\n",
      "\n",
      "\"They are such an unknown team. They played so poorly against Sweden, who they should have put away, and I think they will definitely put out a big first 40 against us. We need to stay on top of them and go out there and finish it off. We beat them well in the last World Cup but they were still scrapping till the end. The hard thing with France is that once they know they are beaten it turns into a a scrap so you have to just focus on staying controlled and disciplined.\"\n",
      "\n",
      "Back in New Zealand she accepts that the game is in a delicate position, with the cancellation of the NPC putting pressure on the players to show that they deserve better support from the NZRU.\n",
      "\n",
      "\"There is always pressure on our team. We are not as well supported by our union as other teams and you don't want to give them any excuse to make things any harder for us. We want to be four time World Champs and we have definitely got the team here to do but but yeah there is pressure on us every game, probably the same pressure there is on England. People expect us to win, we have always had that so we know how to deal with it.\n",
      "\n",
      "\"Cancelling the NPC was disappointing, it is a step back. The NPC has always been on in a World Cup year. We don't have age grade teams so we need the NPC. There is a lot of work going on behind the scenes to develop a new strategic plan for the women's game with a lot of our ex-Black Ferns involved so hopefully the NPC will be back next year.\"\n",
      "\n",
      "Robertson says she will definitely be hanging up her black jersey after this World Cup.\n",
      "\n",
      "\"I am getting to an age where I could do with having some more time to myself. I will play club I hope but this is it for me and the national team. It would be pretty special to go out with a third World Cup.\"\n",
      "\n",
      "New Zealand play France on Thursday morning at 7.15am.\n"
     ]
    }
   ],
   "source": [
    "article = herald_data.sample(1).article.values[0]\n",
    "print(article)"
   ]
  },
  {
   "cell_type": "code",
   "execution_count": 26,
   "metadata": {},
   "outputs": [],
   "source": [
    "if not os.path.exists('../data/articles.corpus') or OVERWRITE:\n",
    "    with open('../data/articles.corpus', 'w') as corpus_file:\n",
    "        for i, row in herald_data.iterrows():\n",
    "            corpus_file.write('\\n'.join([row['headline'], row['article']]) + \"\\n\\n\")"
   ]
  },
  {
   "cell_type": "code",
   "execution_count": 27,
   "metadata": {},
   "outputs": [],
   "source": [
    "if not os.path.exists(\"../data/herald_data.csv\") or OVERWRITE:\n",
    "    herald_data.to_csv(\"../data/herald_data.csv\", index = False)"
   ]
  },
  {
   "cell_type": "code",
   "execution_count": 28,
   "metadata": {},
   "outputs": [],
   "source": [
    "herald_data = herald_data.reindex()"
   ]
  },
  {
   "cell_type": "code",
   "execution_count": 29,
   "metadata": {},
   "outputs": [],
   "source": [
    "herald_data.reset_index(drop = True, inplace = True)"
   ]
  },
  {
   "cell_type": "code",
   "execution_count": 30,
   "metadata": {},
   "outputs": [
    {
     "name": "stdout",
     "output_type": "stream",
     "text": [
      "<class 'pandas.core.frame.DataFrame'>\n",
      "RangeIndex: 304422 entries, 0 to 304421\n",
      "Data columns (total 7 columns):\n",
      "byline             304422 non-null object\n",
      "date               304422 non-null datetime64[ns]\n",
      "headline           304422 non-null object\n",
      "paragraphs         304422 non-null object\n",
      "syndicator_name    304422 non-null object\n",
      "url                304422 non-null object\n",
      "article            304422 non-null object\n",
      "dtypes: datetime64[ns](1), object(6)\n",
      "memory usage: 16.3+ MB\n"
     ]
    }
   ],
   "source": [
    "herald_data.info()"
   ]
  }
 ],
 "metadata": {
  "kernelspec": {
   "display_name": "Python 3",
   "language": "python",
   "name": "python3"
  },
  "language_info": {
   "codemirror_mode": {
    "name": "ipython",
    "version": 3
   },
   "file_extension": ".py",
   "mimetype": "text/x-python",
   "name": "python",
   "nbconvert_exporter": "python",
   "pygments_lexer": "ipython3",
   "version": "3.5.3"
  }
 },
 "nbformat": 4,
 "nbformat_minor": 2
}
